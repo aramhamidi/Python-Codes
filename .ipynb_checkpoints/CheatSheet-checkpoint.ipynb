{
 "cells": [
  {
   "cell_type": "markdown",
   "metadata": {},
   "source": [
    "# Types"
   ]
  },
  {
   "cell_type": "code",
   "execution_count": 7,
   "metadata": {},
   "outputs": [],
   "source": [
    "a = 2           # integer\n",
    "b = 5.0         # float\n",
    "c = 8.3e5       # exponential\n",
    "d = 1.5 + 0.5j  # complex\n",
    "e = 4 > 5       # boolean\n",
    "f = 'word'      # string"
   ]
  },
  {
   "cell_type": "markdown",
   "metadata": {},
   "source": [
    "# Lists"
   ]
  },
  {
   "cell_type": "code",
   "execution_count": 23,
   "metadata": {},
   "outputs": [
    {
     "data": {
      "text/plain": [
       "[1, 2, 3]"
      ]
     },
     "execution_count": 23,
     "metadata": {},
     "output_type": "execute_result"
    }
   ],
   "source": [
    "a = ['red', 'blue', 'green']         # manually initialization\n",
    "b = list(range(7))                   # initialization through a function\n",
    "c = [nu**2 for nu in b]              # initialize through list comprehension\n",
    "d = [nu**2 for nu in b if nu < 5]    # list comprehension with condition\n",
    "e = c[0]                             # access element\n",
    "f = b[1:2]                           # access a slice of the list\n",
    "g = ['re', 'bl'] + ['gr']            # list concatenation\n",
    "h = ['re'] * 5                       # repeat a list\n",
    "i = b[:-1]                           # all the elements of b, except the last one\n",
    "j = b[-1:]                           # only last element of b\n",
    "k = [[1,2,3],[4,5,6]]                # 2D list or list of lists\n",
    "l = k[None:]                         # Shallow copy of k\n",
    "m = k[:]                             # Shallow copy of k\n",
    "n = k[:None]                         # Shallow copy of k\n",
    "o = k[None:None]                     # Shallow copy of k\n",
    "['re', 'bl'].index('re')             # returns index of 're'\n",
    "'re' in ['re', 'bl']                 # true if 're' in list\n",
    "sorted([3, 2, 1])                    # returns sorted list"
   ]
  },
  {
   "cell_type": "markdown",
   "metadata": {},
   "source": [
    "# Shallow Copy\n",
    "This allows you to modify a copy of a list without modifying the original."
   ]
  },
  {
   "cell_type": "code",
   "execution_count": 63,
   "metadata": {
    "collapsed": true
   },
   "outputs": [
    {
     "name": "stdout",
     "output_type": "stream",
     "text": [
      "myList is myListReference: True\n",
      "myList == myListReference: True\n",
      "myList is myList[:]: False\n",
      "myList == myList[:]: True\n",
      "myList is myList[:None]: False\n",
      "myList == myList[:None]: True\n"
     ]
    }
   ],
   "source": [
    "myList = [1, 2, 3]\n",
    "myListReference = myList                                           #shallow copy of the list\n",
    "print('myList is myListReference:',myList is myListReference)      #returns True\n",
    "print('myList == myListReference:',myList == myListReference)      #returns True\n",
    "print('myList is myList[:]:',myList is myList[:])                  #returns False\n",
    "print('myList == myList[:]:',myList == myList[:])                  #returns True\n",
    "print('myList is myList[:None]:',myList is myList[:None])          #returns False\n",
    "print('myList == myList[:None]:',myList == myList[:None])          #returns True\n"
   ]
  },
  {
   "cell_type": "markdown",
   "metadata": {},
   "source": [
    "# Dictionaries"
   ]
  },
  {
   "cell_type": "code",
   "execution_count": 7,
   "metadata": {},
   "outputs": [],
   "source": [
    "ad = {'red': 'rouge', 'blue': 'bleu', 'green': 'vert'}   # dictionary\n",
    "bd = ad['red']                                           # translate item\n",
    "cd = [value for key, value in ad.items()]                # loop through contents\n",
    "dd = ad.get('yellow', 'no translation found')            # returns  'no translation found'\n",
    "ed = ad.get('red', 'no transaction found')               # get the value for the key"
   ]
  },
  {
   "cell_type": "markdown",
   "metadata": {},
   "source": [
    "# String"
   ]
  },
  {
   "cell_type": "code",
   "execution_count": 9,
   "metadata": {},
   "outputs": [
    {
     "data": {
      "text/plain": [
       "'1.2.three'"
      ]
     },
     "execution_count": 9,
     "metadata": {},
     "output_type": "execute_result"
    }
   ],
   "source": [
    "astr = 'red'                      # assignment\n",
    "char = astr[2]                    # access individual characters\n",
    "'red ' + 'blue'                   # string concatenation\n",
    "'1, 2, three'.split(',')          # split string around ',' into list\n",
    "'.'.join(['1', '2', 'three'])     # concatenate list into string"
   ]
  },
  {
   "cell_type": "markdown",
   "metadata": {},
   "source": [
    "# Operators"
   ]
  },
  {
   "cell_type": "code",
   "execution_count": 18,
   "metadata": {},
   "outputs": [
    {
     "data": {
      "text/plain": [
       "False"
      ]
     },
     "execution_count": 18,
     "metadata": {},
     "output_type": "execute_result"
    }
   ],
   "source": [
    "a = 2             # assignment\n",
    "a += 1            # (*=, /=)change and assign\n",
    "3 + 2             # addition\n",
    "3 / 2             # integer division (python2) or float division (python3)\n",
    "3 // 2            # integer division\n",
    "3 * 2             # multiplication\n",
    "3 ** 2            # exponent\n",
    "3 % 2             # remainder\n",
    "abs(-10)          # absolute value\n",
    "1 == 1            # equal\n",
    "2 > 1             # larger\n",
    "2 < 1             # smaller\n",
    "1 != 2            # not equal\n",
    "1 != 2 and 2 < 3  # logical AND\n",
    "1 != 2 or 2 < 3   # logical OR\n",
    "not 1 == 2        # logical NOT\n",
    "a in b            # test if a is in b\n",
    "a is b            # test if objects point to the same memory (id)"
   ]
  },
  {
   "cell_type": "markdown",
   "metadata": {},
   "source": [
    "# Control Flow"
   ]
  },
  {
   "cell_type": "code",
   "execution_count": 25,
   "metadata": {
    "code_folding": [],
    "collapsed": true
   },
   "outputs": [
    {
     "name": "stdout",
     "output_type": "stream",
     "text": [
      "True\n",
      "red\n",
      "blue\n",
      "green\n",
      "1\n",
      "2\n",
      "3\n",
      "4\n",
      "5\n",
      "6\n",
      "7\n",
      "8\n",
      "9\n",
      "1\n",
      "2\n",
      "3\n",
      "4\n",
      "5\n",
      "6\n",
      "7\n",
      "8\n",
      "9\n",
      "10\n",
      "while will end here!\n",
      "1\n",
      "3\n",
      "5\n",
      "7\n",
      "9\n",
      "11\n",
      "13\n",
      "15\n",
      "17\n",
      "19\n"
     ]
    }
   ],
   "source": [
    "# if/elif/else\n",
    "a_c, b_c = 1, 2\n",
    "if a_c + b_c == 3:\n",
    "    print('True')\n",
    "elif a_c + b_c == 1:\n",
    "    print('False')\n",
    "else:\n",
    "    print('?')\n",
    "\n",
    "# for\n",
    "a_a = ['red', 'blue', 'green']\n",
    "for color in a_a:\n",
    "    print(color)\n",
    "\n",
    "# while\n",
    "number = 1\n",
    "while number < 10:\n",
    "    print(number)\n",
    "    number += 1\n",
    "\n",
    "# break\n",
    "number = 1\n",
    "while True:\n",
    "    print(number)\n",
    "    number += 1\n",
    "    if number > 10:\n",
    "        print('while will end here!')\n",
    "        break\n",
    "\n",
    "# continue\n",
    "for i in range(20):\n",
    "    if i % 2 == 0:    # this causes the loop to skip even values\n",
    "        continue\n",
    "    print(i)"
   ]
  },
  {
   "cell_type": "markdown",
   "metadata": {},
   "source": [
    "# Functions, Classes, Generators, Decorators"
   ]
  },
  {
   "cell_type": "code",
   "execution_count": 43,
   "metadata": {},
   "outputs": [
    {
     "name": "stdout",
     "output_type": "stream",
     "text": [
      "3\n",
      "<generator object firstn at 0x067677E0>\n",
      "first call on next(x2) 0\n",
      "second call on next(x2) 1\n",
      "consume generator with list comprehension [0, 1, 2, 3, 4, 5, 6, 7, 8, 9]\n",
      "call\n",
      "func\n"
     ]
    }
   ],
   "source": [
    "# Function\n",
    "def myfunc(a1, a2):\n",
    "    return a1 + a2\n",
    "\n",
    "a1,a2 = 2, 5\n",
    "x1 = myfunc(a1, a2)\n",
    "\n",
    "# Class\n",
    "class Point(object):\n",
    "    def __init__(self, x):\n",
    "        self.x = x\n",
    "    def __call__(self):\n",
    "        print(self.x)\n",
    "\n",
    "x2 = Point(3)\n",
    "x2.__call__()\n",
    "\n",
    "# Generators\n",
    "def firstn(n):\n",
    "    num = 0\n",
    "    while num < n:\n",
    "        yield num\n",
    "        num += 1\n",
    "        \n",
    "x3 = firstn(4)\n",
    "print(x3)\n",
    "print('first call on next(x2)',next(x3))\n",
    "print('second call on next(x2)',next(x3))\n",
    "\n",
    "        \n",
    "# consume the generator with list comprehension\n",
    "x4 = [i for i in firstn(10)]\n",
    "print('consume generator with list comprehension',x4)\n",
    "\n",
    "# Decorators\n",
    "# decorator is a function that takes another\n",
    "# function and extends the behavior of the\n",
    "# latter function without explicitly modifying it.\n",
    "\n",
    "class myDecorator(object):                \n",
    "    def __init__(self, f):\n",
    "        self.f = f\n",
    "    def __call__(self):\n",
    "        print(\"call\")\n",
    "        self.f()\n",
    "\n",
    "@myDecorator\n",
    "def my_funct():           \n",
    "    print('func')\n",
    "\n",
    "my_funct()"
   ]
  },
  {
   "cell_type": "markdown",
   "metadata": {},
   "source": [
    "# Numpy"
   ]
  },
  {
   "cell_type": "markdown",
   "metadata": {},
   "source": [
    "### Array Initializer in numpy"
   ]
  },
  {
   "cell_type": "code",
   "execution_count": 44,
   "metadata": {},
   "outputs": [
    {
     "data": {
      "text/plain": [
       "array(['red', 'blue', 'green'], dtype='<U5')"
      ]
     },
     "execution_count": 44,
     "metadata": {},
     "output_type": "execute_result"
    }
   ],
   "source": [
    "import numpy as np\n",
    "np.array([2, 3, 4])             # direct initialization\n",
    "np.empty(20, dtype=np.float32)  # single precision array with 20 entries\n",
    "np.zeros(200)                   # initialize 200 zeros\n",
    "np.ones((3,3), dtype=np.int32)  # 3 x 3 integer matrix with ones\n",
    "np.eye(200)                     # ones on the diagonal\n",
    "np.zeros_like(a)                # returns array with zeros and the shape of a\n",
    "np.linspace(0., 10., 100)       # 100 points from 0 to 10\n",
    "np.arange(0, 100, 2)            # points from 0 to <100 with step width 2\n",
    "np.logspace(-5, 2, 100)         # 100 log-spaced points between 1e-5 and 1e2\n",
    "np.copy(a)                      # copy array to new memory"
   ]
  },
  {
   "cell_type": "markdown",
   "metadata": {},
   "source": [
    "### array properties and operations"
   ]
  },
  {
   "cell_type": "markdown",
   "metadata": {},
   "source": [
    "### Reading/Writing Files in numpy"
   ]
  },
  {
   "cell_type": "code",
   "execution_count": 78,
   "metadata": {},
   "outputs": [],
   "source": [
    "data = np.fromfile('example.txt', dtype=np.int32, count=-1)  # read binary data from file count = -1 means all the items\n",
    "# np.loadtxt('example.txt', skiprows=2, delimiter=',')   # read ascii data from file"
   ]
  },
  {
   "cell_type": "code",
   "execution_count": 79,
   "metadata": {},
   "outputs": [
    {
     "data": {
      "text/plain": [
       "array([839527473, 741542444])"
      ]
     },
     "execution_count": 79,
     "metadata": {},
     "output_type": "execute_result"
    }
   ],
   "source": [
    "data"
   ]
  },
  {
   "cell_type": "code",
   "execution_count": 80,
   "metadata": {},
   "outputs": [
    {
     "name": "stdout",
     "output_type": "stream",
     "text": [
      "[839527473 741542444]\n"
     ]
    }
   ],
   "source": [
    "print(data)"
   ]
  },
  {
   "cell_type": "code",
   "execution_count": null,
   "metadata": {},
   "outputs": [],
   "source": []
  },
  {
   "cell_type": "code",
   "execution_count": null,
   "metadata": {},
   "outputs": [],
   "source": []
  }
 ],
 "metadata": {
  "kernelspec": {
   "display_name": "Python 3",
   "language": "python",
   "name": "python3"
  },
  "language_info": {
   "codemirror_mode": {
    "name": "ipython",
    "version": 3
   },
   "file_extension": ".py",
   "mimetype": "text/x-python",
   "name": "python",
   "nbconvert_exporter": "python",
   "pygments_lexer": "ipython3",
   "version": "3.6.4"
  },
  "latex_envs": {
   "LaTeX_envs_menu_present": true,
   "autoclose": false,
   "autocomplete": true,
   "bibliofile": "biblio.bib",
   "cite_by": "apalike",
   "current_citInitial": 1,
   "eqLabelWithNumbers": true,
   "eqNumInitial": 1,
   "hotkeys": {
    "equation": "Ctrl-E",
    "itemize": "Ctrl-I"
   },
   "labels_anchors": false,
   "latex_user_defs": false,
   "report_style_numbering": false,
   "user_envs_cfg": false
  }
 },
 "nbformat": 4,
 "nbformat_minor": 2
}
