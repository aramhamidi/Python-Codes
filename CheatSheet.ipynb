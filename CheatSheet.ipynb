{
 "cells": [
  {
   "cell_type": "markdown",
   "metadata": {},
   "source": [
    "# Types"
   ]
  },
  {
   "cell_type": "code",
   "execution_count": null,
   "metadata": {},
   "outputs": [],
   "source": [
    "a = 2           # integer\n",
    "b = 5.0         # float\n",
    "c = 8.3e5       # exponential\n",
    "d = 1.5 + 0.5j  # complex\n",
    "e = 4 > 5       # boolean\n",
    "f = 'word'      # string"
   ]
  },
  {
   "cell_type": "markdown",
   "metadata": {},
   "source": [
    "# Lists"
   ]
  },
  {
   "cell_type": "code",
   "execution_count": null,
   "metadata": {},
   "outputs": [],
   "source": [
    "a = ['red', 'blue', 'green']         # manually initialization\n",
    "b = list(range(7))                   # initialization through a function\n",
    "c = [nu**2 for nu in b]              # initialize through list comprehension\n",
    "d = [nu**2 for nu in b if nu < 5]    # list comprehension with condition\n",
    "e = c[0]                             # access element\n",
    "f = b[1:2]                           # access a slice of the list\n",
    "g = ['re', 'bl'] + ['gr']            # list concatenation\n",
    "h = ['re'] * 5                       # repeat a list\n",
    "i = b[:-1]                           # all the elements of b, except the last one\n",
    "j = b[-1:]                           # only last element of b\n",
    "k = [[1,2,3],[4,5,6]]                # 2D list or list of lists\n",
    "l = k[None:]                         # Shallow copy of k\n",
    "m = k[:]                             # Shallow copy of k\n",
    "n = k[:None]                         # Shallow copy of k\n",
    "o = k[None:None]                     # Shallow copy of k\n",
    "['re', 'bl'].index('re')             # returns index of 're'\n",
    "'re' in ['re', 'bl']                 # true if 're' in list\n",
    "sorted([3, 2, 1])                    # returns sorted list\n",
    "a[::-1]                              # reversing a list"
   ]
  },
  {
   "cell_type": "markdown",
   "metadata": {},
   "source": [
    "# Shallow Copy\n",
    "This allows you to modify a copy of a list without modifying the original."
   ]
  },
  {
   "cell_type": "code",
   "execution_count": null,
   "metadata": {},
   "outputs": [],
   "source": [
    "myList = [1, 2, 3]\n",
    "myListReference = myList       # shallow copy of the list\n",
    "myList is myListReference      # returns True\n",
    "myList == myListReference      # returns True\n",
    "myList is myList[:]            # returns False\n",
    "myList == myList[:]            # returns True\n",
    ",myList is myList[:None]       # returns False\n",
    "myList == myList[:None]        # returns True"
   ]
  },
  {
   "cell_type": "markdown",
   "metadata": {},
   "source": [
    "# Dictionaries"
   ]
  },
  {
   "cell_type": "code",
   "execution_count": null,
   "metadata": {},
   "outputs": [],
   "source": [
    "ad = {'red': 'rouge', 'blue': 'bleu', 'green': 'vert'}   # dictionary\n",
    "bd = ad['red']                                           # translate item\n",
    "cd = [value for key, value in ad.items()]                # loop through contents\n",
    "dd = ad.get('yellow', 'no translation found')            # returns  'no translation found'\n",
    "ed = ad.get('red', 'no transaction found')               # get the value for the key"
   ]
  },
  {
   "cell_type": "markdown",
   "metadata": {},
   "source": [
    "# String"
   ]
  },
  {
   "cell_type": "code",
   "execution_count": null,
   "metadata": {},
   "outputs": [],
   "source": [
    "astr = 'red'                      # assignment\n",
    "char = astr[2]                    # access individual characters\n",
    "'red ' + 'blue'                   # string concatenation\n",
    "'1, 2, three'.split(',')          # split string around ',' into list\n",
    "'.'.join(['1', '2', 'three'])     # concatenate list into string"
   ]
  },
  {
   "cell_type": "markdown",
   "metadata": {},
   "source": [
    "# Operators"
   ]
  },
  {
   "cell_type": "code",
   "execution_count": null,
   "metadata": {},
   "outputs": [],
   "source": [
    "a = 2             # assignment\n",
    "a += 1            # (*=, /=)change and assign\n",
    "3 + 2             # addition\n",
    "3 / 2             # integer division (python2) or float division (python3)\n",
    "3 // 2            # integer division\n",
    "3 * 2             # multiplication\n",
    "3 ** 2            # exponent\n",
    "3 % 2             # remainder\n",
    "abs(-10)          # absolute value\n",
    "1 == 1            # equal\n",
    "2 > 1             # larger\n",
    "2 < 1             # smaller\n",
    "1 != 2            # not equal\n",
    "1 != 2 and 2 < 3  # logical AND\n",
    "1 != 2 or 2 < 3   # logical OR\n",
    "not 1 == 2        # logical NOT\n",
    "a in b            # test if a is in b\n",
    "a is b            # test if objects point to the same memory (id)"
   ]
  },
  {
   "cell_type": "markdown",
   "metadata": {},
   "source": [
    "# Control Flow"
   ]
  },
  {
   "cell_type": "code",
   "execution_count": null,
   "metadata": {
    "code_folding": []
   },
   "outputs": [],
   "source": [
    "# if/elif/else\n",
    "a_c, b_c = 1, 2\n",
    "if a_c + b_c == 3:\n",
    "    print('True')\n",
    "elif a_c + b_c == 1:\n",
    "    print('False')\n",
    "else:\n",
    "    print('?')\n",
    "\n",
    "# for\n",
    "a_a = ['red', 'blue', 'green']\n",
    "for color in a_a:\n",
    "    print(color)\n",
    "\n",
    "# while\n",
    "number = 1\n",
    "while number < 10:\n",
    "    print(number)\n",
    "    number += 1\n",
    "\n",
    "# break\n",
    "number = 1\n",
    "while True:\n",
    "    print(number)\n",
    "    number += 1\n",
    "    if number > 10:\n",
    "        print('while will end here!')\n",
    "        break\n",
    "\n",
    "# continue\n",
    "for i in range(20):\n",
    "    if i % 2 == 0:    # this causes the loop to skip even values\n",
    "        continue\n",
    "    print(i)"
   ]
  },
  {
   "cell_type": "markdown",
   "metadata": {},
   "source": [
    "# Functions, Classes, Generators, Decorators"
   ]
  },
  {
   "cell_type": "code",
   "execution_count": null,
   "metadata": {},
   "outputs": [],
   "source": [
    "# Function\n",
    "def myfunc(a1, a2):\n",
    "    return a1 + a2\n",
    "\n",
    "a1,a2 = 2, 5\n",
    "x1 = myfunc(a1, a2)\n",
    "\n",
    "# Class\n",
    "class Point(object):\n",
    "    def __init__(self, x):\n",
    "        self.x = x\n",
    "    def __call__(self):\n",
    "        print(self.x)\n",
    "\n",
    "x2 = Point(3)\n",
    "x2.__call__()\n",
    "\n",
    "# Generators\n",
    "def firstn(n):\n",
    "    num = 0\n",
    "    while num < n:\n",
    "        yield num\n",
    "        num += 1\n",
    "        \n",
    "x3 = firstn(4)\n",
    "print(x3)\n",
    "print('first call on next(x2)',next(x3))\n",
    "print('second call on next(x2)',next(x3))\n",
    "\n",
    "        \n",
    "# consume the generator with list comprehension\n",
    "x4 = [i for i in firstn(10)]\n",
    "print('consume generator with list comprehension',x4)\n",
    "\n",
    "# Decorators\n",
    "# decorator is a function that takes another\n",
    "# function and extends the behavior of the\n",
    "# latter function without explicitly modifying it.\n",
    "\n",
    "class myDecorator(object):                \n",
    "    def __init__(self, f):\n",
    "        self.f = f\n",
    "    def __call__(self):\n",
    "        print(\"call\")\n",
    "        self.f()\n",
    "\n",
    "@myDecorator\n",
    "def my_funct():           \n",
    "    print('func')\n",
    "\n",
    "my_funct()"
   ]
  },
  {
   "cell_type": "markdown",
   "metadata": {},
   "source": [
    "# Numpy"
   ]
  },
  {
   "cell_type": "markdown",
   "metadata": {},
   "source": [
    "### Array Initializer in numpy"
   ]
  },
  {
   "cell_type": "code",
   "execution_count": null,
   "metadata": {},
   "outputs": [],
   "source": [
    "import numpy as np\n",
    "np.array([2, 3, 4])             # direct initialization\n",
    "np.empty(20, dtype=np.float32)  # single precision array with 20 entries\n",
    "np.zeros(200)                   # initialize 200 zeros\n",
    "np.ones((3,3), dtype=np.int32)  # 3 x 3 integer matrix with ones\n",
    "np.eye(200)                     # ones on the diagonal\n",
    "np.zeros_like(a)                # returns array with zeros and the shape of a\n",
    "np.linspace(0., 10., 100)       # 100 points from 0 to 10\n",
    "np.arange(0, 100, 2)            # points from 0 to <100 with step width 2\n",
    "np.logspace(-5, 2, 100)         # 100 log-spaced points between 1e-5 and 1e2\n",
    "np.copy(a)                      # copy array to new memory"
   ]
  },
  {
   "cell_type": "markdown",
   "metadata": {},
   "source": [
    "### array properties and operations"
   ]
  },
  {
   "cell_type": "code",
   "execution_count": null,
   "metadata": {},
   "outputs": [],
   "source": [
    "arr1 = np.array([[1,2,3],[4,5,6]])\n",
    "\n",
    "arr2 = np.array([[[1,10,2],\n",
    "                  [3,9,4]],\n",
    "                 \n",
    "                 [[4,1,5],\n",
    "                  [8,7,6]]])\n",
    "\n",
    "arr3 = np.array([1.5,2.7,3.9])\n",
    "\n",
    "print('arr1.shape:',arr1.shape,'arr2.shape:',arr2.shape,'arr3.shape:',arr3.shape)# a tuple with the lengths of each axis\n",
    "print('len(arr1):',len(arr1),'len(arr2):',len(arr2),'len(arr3):',len(arr3))      # length of axis 0\n",
    "print('arr1.ndim:',arr1.ndim,'arr2.ndim:',arr2.ndim,'arr3.ndim:',arr3.ndim)      # number of dimensions (axes)\n",
    "print('arr2.sort(axis=0):',arr2.sort(axis=0))                # sort array along axis\n",
    "print('sorted arr2:', arr2)\n",
    "print('arr2.flatten():',arr2.flatten())                      # collapse array to one dimension\n",
    "print('arr1.conj():',arr1.conj())                            # return complex conjugate\n",
    "print('arr3.astype(np.int16):',arr3.astype(np.int16))        # cast to integer\n",
    "print('np.argmax(arr2, axis=2):',np.argmax(arr2, axis=1))    # return index of maximum along a given axis\n",
    "print('np.cumsum(arr2):',np.cumsum(arr2))                    # return cumulative sum\n",
    "print('np.any(arr1):',np.any(arr1))                          # True if any element is True\n",
    "print('np.all(arr1):',np.all(arr1))                          # True if all elements are True\n",
    "print('np.argsort(arr2, axis=0):',np.argsort(arr2, axis=0))  # return sorted index array along axis\n",
    "print('arr2 is a (2,2,3) shaped matrix!')\n",
    "print('Lets look at axis 0: ')\n",
    "for i in np.ndindex(arr2.shape[:1]):\n",
    "    print( i, arr2[i])\n",
    "    \n",
    "print('Lets look at axis1: ')\n",
    "for i in np.ndindex(arr2.shape[:2]):\n",
    "    print( i, arr2[i])\n",
    "    \n",
    "print('Lets look at axis 2: ')\n",
    "for i in np.ndindex(arr2.shape[:3]):\n",
    "    print( i, arr2[i])"
   ]
  },
  {
   "cell_type": "markdown",
   "metadata": {},
   "source": [
    "### Indexing"
   ]
  },
  {
   "cell_type": "code",
   "execution_count": null,
   "metadata": {},
   "outputs": [],
   "source": [
    "a11 = np.arange(20)                                                 # initialization with 0 - 20\n",
    "a22 = np.arange(18)\n",
    "a11[:3] = 0                                                         # set the first three indices to zero\n",
    "a11[4:8] = 1                                                        # set indices 1-4 to 1\n",
    "print(a11)\n",
    "start, stop, step = 5, 15, 2\n",
    "print('a11[start:stop:step]  ',a11[start:stop:step])                # general form of indexing/slicing\n",
    "print('a22 before transforming to a column vector: ', a22)             \n",
    "print('a22[None, : ]=',a22[None, :])                                # transform to column vector - changes the shape\n",
    "print('a22[[1, 1, 3, 8]] :',a22[[1, 1, 3, 8]])                      # return array with values of the indices\n",
    "a33 = a22.reshape(2,3,3)                                            # transform to 2 x 9 matrix\n",
    "print('a22.reshape(2,9)', a33)\n",
    "print('a11.T(doesnt really work on 1D arrays):', a11.T)             # return transposed view - Doesn't change the shape\n",
    "print('np.transpose(a33,(2, 1, 0)):',np.transpose(a33,(2, 1, 0)))   # transpose array to new axis order\n",
    "print('a11[a11 < 7]:',a11[a11 < 7])                                 # returns array that fulfills elementwise condition"
   ]
  },
  {
   "cell_type": "markdown",
   "metadata": {},
   "source": [
    "### Boolean Arrays"
   ]
  },
  {
   "cell_type": "code",
   "execution_count": null,
   "metadata": {},
   "outputs": [],
   "source": [
    "ab, bb = np.arange(100), 6 * np.arange(1, 101)\n",
    "print('ab < 2',ab < 2)                                  # returns array with boolean values\n",
    "print('(ab < 2) & (bb > 10)',(ab < 2) & (bb > 10))      # elementwise logical and\n",
    "print('(ab < 2) | (bb > 10)',(ab < 2) | (bb > 10))      # elementwise logical or\n",
    "print('~ab',~ab)                                        # invert boolean array\n",
    "np.logical_and(ab < 2, bb > 10)                         # element-wise logical and\n",
    "np.logical_or(ab < 2, bb > 10)                          # element-wise logical or\n",
    "np.invert(ab)                                           # invert boolean array"
   ]
  },
  {
   "cell_type": "markdown",
   "metadata": {},
   "source": [
    "### Elemenwise operations and math"
   ]
  },
  {
   "cell_type": "code",
   "execution_count": null,
   "metadata": {},
   "outputs": [],
   "source": [
    "import math\n",
    "y = math.pi/2\n",
    "x = math.pi/4\n",
    "ab * 5              # multiplication with scalar\n",
    "ab + 5              # addition with scalar\n",
    "ab + bb              # addition with array b\n",
    "ab / bb              # division with b (np.NaN for division by zero)\n",
    "np.exp(ab)          # exponential (complex and real)\n",
    "np.power(ab,bb)      # a to the power b\n",
    "np.sin(ab)          # sine\n",
    "np.cos(ab)          # cosine\n",
    "np.arctan2(y,x)    # arctan(y/x)\n",
    "np.arcsin(x)       # arcsin\n",
    "np.radians(ab)      # degrees to radians\n",
    "np.degrees(ab)      # radians to degrees\n",
    "np.var(ab)          # variance of array\n",
    "np.std(ab, axis=0)  # standard deviation on axis 0"
   ]
  },
  {
   "cell_type": "markdown",
   "metadata": {},
   "source": [
    "### Inner and Outer Products"
   ]
  },
  {
   "cell_type": "code",
   "execution_count": null,
   "metadata": {},
   "outputs": [],
   "source": [
    "ap, bp = np.array([[2, 3], [4, 5]]), np.array([[20, 30], [40, 50]])\n",
    "np.dot(ap, bp)                        # inner matrix product: a_mi b_in\n",
    "np.einsum('ij,jk->ik', ap, bp)        # einstein summation convention\n",
    "np.sum(ap, axis=1)                    # sum over axis 1\n",
    "np.abs(ap)                            # return array with absolute values\n",
    "ap[None, :] + bp[:, None]             # outer sum\n",
    "ap[None, :] * bp[:, None]             # outer product\n",
    "np.outer(ap, bp)                      # outer product\n",
    "np.sum(ap * ap.T)                     # matrix norm "
   ]
  },
  {
   "cell_type": "markdown",
   "metadata": {},
   "source": [
    "### interpolation, integration"
   ]
  },
  {
   "cell_type": "code",
   "execution_count": null,
   "metadata": {},
   "outputs": [],
   "source": [
    "np.trapz(y=[1,2,3], x=None,dx=1.0, axis=0)    # integrate along axis 1\n",
    "np.interp(x=[0.2,0.5,0.4], xp=[1,2,3], fp=[3,2,0])      # interpolate function xp, fp (f(xp) = fp) at discrete data-points x "
   ]
  },
  {
   "cell_type": "markdown",
   "metadata": {},
   "source": [
    "### fft"
   ]
  },
  {
   "cell_type": "code",
   "execution_count": null,
   "metadata": {},
   "outputs": [],
   "source": [
    "np.fft.fft(y)             # complex fourier transform of y\n",
    "np.fft.fftfreqs(len(y))   # fft frequencies for a given length\n",
    "np.fft.fftshift(freqs)    # shifts zero frequency to the middle\n",
    "np.fft.rfft(y)            # real fourier transform of y\n",
    "np.fft.rfftfreqs(len(y))  # real fft frequencies for a given length"
   ]
  },
  {
   "cell_type": "markdown",
   "metadata": {},
   "source": [
    "### Rounding"
   ]
  },
  {
   "cell_type": "code",
   "execution_count": null,
   "metadata": {},
   "outputs": [],
   "source": [
    "np.ceil(1.54)   # rounds to nearest upper int\n",
    "np.floor(2.3567)  # rounds to nearest lower int\n",
    "np.round(3.578)  # rounds to neares int"
   ]
  },
  {
   "cell_type": "markdown",
   "metadata": {},
   "source": [
    "### Random Variables"
   ]
  },
  {
   "cell_type": "code",
   "execution_count": null,
   "metadata": {},
   "outputs": [],
   "source": [
    "np.random.normal(loc=0, scale=2, size=50)  # 50 normal distributed random numbers\n",
    "np.random.seed(23032)                       # resets the seed value\n",
    "np.random.rand(200)                         # 200 random numbers in [0, 1)\n",
    "np.random.uniform(1, 30, 200)               # 200 random numbers in [1, 30)\n",
    "np.random.random_integers(1, 15, 300)       # 300 random integers between [1, 15]"
   ]
  },
  {
   "cell_type": "markdown",
   "metadata": {},
   "source": [
    "### Reading/Writing Files in numpy"
   ]
  },
  {
   "cell_type": "code",
   "execution_count": null,
   "metadata": {},
   "outputs": [],
   "source": [
    "# data = np.fromfile('example.txt', dtype=np.int32, count=-1)  # read binary data from file count = -1 means all the items\n",
    "# np.loadtxt('example.txt', skiprows=2, delimiter=',')   # read ascii data from file"
   ]
  },
  {
   "cell_type": "markdown",
   "metadata": {},
   "source": [
    "# Matplotlib"
   ]
  },
  {
   "cell_type": "code",
   "execution_count": null,
   "metadata": {},
   "outputs": [],
   "source": [
    "import matplotlib as plt"
   ]
  },
  {
   "cell_type": "markdown",
   "metadata": {},
   "source": [
    "### figures and axises"
   ]
  },
  {
   "cell_type": "code",
   "execution_count": null,
   "metadata": {},
   "outputs": [],
   "source": [
    "fig = plt.figure(figsize=(5, 2), facecolor='black')  # initialize figure\n",
    "ax = fig.add_subplot(3, 2, 2)                        # add second subplot in a 3 x 2 grid\n",
    "fig, axes = plt.subplots(5, 2, figsize=(5, 5))       # return fig and array of axes in a 5 x 2 grid\n",
    "ax = fig.add_axes([left, bottom, width, height])     # manually add axes at a certain position"
   ]
  },
  {
   "cell_type": "markdown",
   "metadata": {},
   "source": [
    "### figures and axes properties"
   ]
  },
  {
   "cell_type": "code",
   "execution_count": null,
   "metadata": {},
   "outputs": [],
   "source": [
    "fig.suptitle('title')            # big figure title\n",
    "fig.subplots_adjust(bottom=0.1, right=0.8, top=0.9, wspace=0.2, hspace=0.5)  # adjust subplot positions\n",
    "fig.tight_layout(pad=0.1, h_pad=0.5, w_pad=0.5, rect=None)                   # adjust subplots to fit perfectly into fig\n",
    "ax.set_xlabel()                  # set xlabel\n",
    "ax.set_ylabel()                  # set ylabel\n",
    "ax.set_xlim(1, 2)                # sets x limits\n",
    "ax.set_ylim(3, 4)                # sets y limits\n",
    "ax.set_title('blabla')           # sets the axis title\n",
    "ax.set(xlabel='bla')             # set multiple parameters at once\n",
    "ax.legend(loc='upper center')    # activate legend\n",
    "ax.grid(True, which='both')      # activate grid\n",
    "bbox = ax.get_position()         # returns the axes bounding box\n",
    "bbox.x0 + bbox.width             # bounding box parameters"
   ]
  },
  {
   "cell_type": "markdown",
   "metadata": {},
   "source": [
    "### plotting routines"
   ]
  },
  {
   "cell_type": "code",
   "execution_count": null,
   "metadata": {},
   "outputs": [],
   "source": [
    "ax.plot(x,y, '-o', c='red', lw=2, label='bla')              # plots a line\n",
    "ax.scatter(x,y, s=20, c=color)                              # scatter plot\n",
    "ax.pcolormesh(xx, yy, zz, shading='gouraud')                # fast colormesh function\n",
    "ax.colormesh(xx, yy, zz, norm=norm)                         # slower colormesh function\n",
    "ax.contour(xx, yy, zz, cmap='jet')                          # contour line plot\n",
    "ax.contourf(xx, yy, zz, vmin=2, vmax=4)                     # filled contours plot\n",
    "n, bins, patch = ax.hist(x, 50)                             # histogram\n",
    "ax.imshow(matrix, origin='lower',extent=(x1, x2, y1, y2))   # show image\n",
    "ax.specgram(y, FS=0.1, noverlap=128, scale='linear')        # plot a spectrogram"
   ]
  },
  {
   "cell_type": "markdown",
   "metadata": {},
   "source": [
    "# IPython"
   ]
  },
  {
   "cell_type": "markdown",
   "metadata": {},
   "source": [
    "### Python Console"
   ]
  },
  {
   "cell_type": "code",
   "execution_count": null,
   "metadata": {},
   "outputs": [],
   "source": [
    "<object>?  # Information about the object\n",
    "<object>.<TAB>  # tab completion\n",
    "\n",
    "# measure runtime of a function:\n",
    "%timeit range(1000)\n",
    "100000 loops, best of 3: 7.76 us per loop\n",
    "\n",
    "# run scripts and debug\n",
    "%run\n",
    "%run -d  # run in debug mode\n",
    "%run -t  # measures execution time\n",
    "%run -p  # runs a profiler\n",
    "%debug  # jumps to the debugger after an exception\n",
    "\n",
    "%pdb  # run debugger automatically on exception\n",
    "\n",
    "# examine history\n",
    "%history\n",
    "%history ~1/1-5  # lines 1-5 of last session\n",
    "\n",
    "# run shell commands\n",
    "!make  # prefix command with \"!\"\n",
    "\n",
    "# clean namespace\n",
    "%reset"
   ]
  },
  {
   "cell_type": "markdown",
   "metadata": {},
   "source": [
    "#### Debugger commands"
   ]
  },
  {
   "cell_type": "code",
   "execution_count": null,
   "metadata": {},
   "outputs": [],
   "source": [
    "n               # execute next line\n",
    "b 42            # set breakpoint in the main file at line 42\n",
    "b myfile.py:42  # set breakpoint in 'myfile.py' at line 42\n",
    "c               # continue execution\n",
    "l               # show current position in the code\n",
    "p data          # print the 'data' variable\n",
    "pp data         # pretty print the 'data' variable\n",
    "s               # step into subroutine\n",
    "a               # print arguments that a function received\n",
    "pp locals()     # show all variables in local scope\n",
    "pp globals()    # show all variables in global scope"
   ]
  }
 ],
 "metadata": {
  "kernelspec": {
   "display_name": "Python 3",
   "language": "python",
   "name": "python3"
  },
  "language_info": {
   "codemirror_mode": {
    "name": "ipython",
    "version": 3
   },
   "file_extension": ".py",
   "mimetype": "text/x-python",
   "name": "python",
   "nbconvert_exporter": "python",
   "pygments_lexer": "ipython3",
   "version": "3.6.4"
  },
  "latex_envs": {
   "LaTeX_envs_menu_present": true,
   "autoclose": false,
   "autocomplete": true,
   "bibliofile": "biblio.bib",
   "cite_by": "apalike",
   "current_citInitial": 1,
   "eqLabelWithNumbers": true,
   "eqNumInitial": 1,
   "hotkeys": {
    "equation": "Ctrl-E",
    "itemize": "Ctrl-I"
   },
   "labels_anchors": false,
   "latex_user_defs": false,
   "report_style_numbering": false,
   "user_envs_cfg": false
  }
 },
 "nbformat": 4,
 "nbformat_minor": 2
}
